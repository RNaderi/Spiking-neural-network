{
  "cells": [
    {
      "cell_type": "code",
      "execution_count": 1,
      "metadata": {
        "colab": {
          "base_uri": "https://localhost:8080/"
        },
        "id": "5aBZl8ERtnAC",
        "outputId": "db3b688b-6583-44df-fe7d-518dabb02bd5"
      },
      "outputs": [
        {
          "output_type": "stream",
          "name": "stdout",
          "text": [
            "Looking in indexes: https://pypi.org/simple, https://us-python.pkg.dev/colab-wheels/public/simple/\n",
            "Requirement already satisfied: brian2 in /usr/local/lib/python3.8/dist-packages (2.5.1)\n",
            "Requirement already satisfied: jinja2>=2.7 in /usr/local/lib/python3.8/dist-packages (from brian2) (2.11.3)\n",
            "Requirement already satisfied: pyparsing in /usr/local/lib/python3.8/dist-packages (from brian2) (3.0.9)\n",
            "Requirement already satisfied: cython>=0.29 in /usr/local/lib/python3.8/dist-packages (from brian2) (0.29.32)\n",
            "Requirement already satisfied: setuptools>=24.2 in /usr/local/lib/python3.8/dist-packages (from brian2) (57.4.0)\n",
            "Requirement already satisfied: sympy>=1.2 in /usr/local/lib/python3.8/dist-packages (from brian2) (1.7.1)\n",
            "Requirement already satisfied: numpy>=1.17 in /usr/local/lib/python3.8/dist-packages (from brian2) (1.21.6)\n",
            "Requirement already satisfied: MarkupSafe>=0.23 in /usr/local/lib/python3.8/dist-packages (from jinja2>=2.7->brian2) (2.0.1)\n",
            "Requirement already satisfied: mpmath>=0.19 in /usr/local/lib/python3.8/dist-packages (from sympy>=1.2->brian2) (1.2.1)\n",
            "Drive already mounted at /content/drive; to attempt to forcibly remount, call drive.mount(\"/content/drive\", force_remount=True).\n",
            "/content/drive/My Drive/SNN-MNIST\n"
          ]
        }
      ],
      "source": [
        "#import\n",
        "!pip install brian2\n",
        "from brian2 import *\n",
        "from time import time\n",
        "import numpy as np\n",
        "import pandas as pd\n",
        "#prefs.codegen.target = 'numpy'  # use the Python fallback\n",
        "import matplotlib.pyplot as plt\n",
        "import matplotlib.image as mpimg\n",
        "import os,pickle\n",
        "from google.colab import drive\n",
        "drive.mount('/content/drive')\n",
        "%cd '/content/drive/My Drive/SNN-MNIST/'\n",
        "import spikeTrain"
      ]
    },
    {
      "cell_type": "code",
      "execution_count": 2,
      "metadata": {
        "colab": {
          "base_uri": "https://localhost:8080/"
        },
        "id": "7J7fssNouDa9",
        "outputId": "b9882e89-1348-430c-9fd7-01aecc5695aa"
      },
      "outputs": [
        {
          "output_type": "stream",
          "name": "stdout",
          "text": [
            ".....loading poisson spike trains input---here we will be checking only for 100/3000 \n"
          ]
        }
      ],
      "source": [
        "################################################################################\n",
        "# Load data\n",
        "################################################################################\n",
        "\n",
        "# working directory path \n",
        "current_dir = os.getcwd()\n",
        "###load all objects converted to poisson spike trains : a single sequence for each object \n",
        "file_to_read = open('/content/drive/My Drive/SNN-MNIST/initialization/poissonSpikeInput.pkl', \"rb\")\n",
        "dict_poissonSpikeInput = pickle.load(file_to_read)\n",
        "print(\".....loading poisson spike trains input---here we will be checking only for 100/3000 \")\n",
        "len(dict_poissonSpikeInput)\n",
        "###load trainset\n",
        "TrainSetSh=np.load('/content/drive/My Drive/SNN-MNIST/initialization/TrainSetSh.npy')\n",
        "TrainSetTargetSh=np.load('/content/drive/My Drive/SNN-MNIST/initialization/TrainSetTargetSh.npy')\n",
        "TrainSetSh=TrainSetSh[0:100,:,:]\n",
        "TrainSetTargetSh=TrainSetTargetSh[0:100]"
      ]
    },
    {
      "cell_type": "code",
      "execution_count": 3,
      "metadata": {
        "id": "_zpaIzTSvcAL"
      },
      "outputs": [],
      "source": [
        "################################################################################\n",
        "# General parameters\n",
        "################################################################################\n",
        "n_input=1  #number of input : a single spike train\n",
        "epoch=1\n",
        "numberclass=100\n",
        "segment_offset=0*ms\n",
        "numberImg=100\n",
        "segmentTime=350*ms\n",
        "intervalImg=150\n",
        "classlabel=[0,1,8]\n",
        "################################################################################\n",
        "# Model parameters\n",
        "################################################################################\n",
        "N_e=100\n",
        "N_i=100\n",
        "E_i_e=-100*mV\n",
        "E_i_i=-85*mV\n",
        "E_e=0*mV\n",
        "E_l_e=-65*mV\n",
        "E_l_i=-60*mV\n",
        "v_reset_e = -60. *mV\n",
        "v_reset_i = -45. *mV\n",
        "v_thr_e = -55. *mV\n",
        "v_thr_i = -40. *mV\n",
        "refrac_e = 5. * ms\n",
        "refrac_i = 2. * ms\n",
        "################################################################################\n",
        "# STDP parameters\n",
        "################################################################################\n",
        "taupre = 20*ms\n",
        "taupost = taupre\n",
        "gmax =100      #100 #.01\n",
        "dApre =0.01      #.01\n",
        "dApost = -dApre * taupre / taupost * 1.05\n",
        "dApost *= gmax \n",
        "dApre *= gmax "
      ]
    },
    {
      "cell_type": "code",
      "source": [
        "dApre=0.4\n",
        "dApost=-0.7"
      ],
      "metadata": {
        "id": "9KTRXsp2HtSQ"
      },
      "execution_count": 4,
      "outputs": []
    },
    {
      "cell_type": "code",
      "source": [
        "start_scope()\n",
        "################################################################################\n",
        "# Preparing input\n",
        "################################################################################\n",
        "SGG = SpikeGeneratorGroup(n_input, np.zeros(100), np.zeros(100)*ms)\n",
        "\n",
        "################################################################################\n",
        "# Model definition\n",
        "################################################################################\n",
        "\n",
        "### Neurons\n",
        "# excitatory group\n",
        "neuron_eqs_e  = '''\n",
        "dv/dt = (g_e*(E_e-v) + g_i*(E_i_e-v) + (E_l_e-v)) / (100*ms) : volt (unless refractory)\n",
        "dg_e/dt = -g_e / (6*ms) : 1 # post-synaptic excitatory conductance  #5\n",
        "dg_i/dt = -g_i / (8*ms) : 1 # post-synaptic inhibitory conductance\n",
        "'''\n",
        "#inhibitory group\n",
        "neuron_eqs_i = '''\n",
        "dv/dt = (g_e*(E_e-v) + g_i*(E_i_i-v) + (E_l_i-v)) / (10*ms) : volt (unless refractory)\n",
        "dg_e/dt = -g_e / (1*ms) : 1 # post-synaptic excitatory conductance\n",
        "dg_i/dt = -g_i / (2*ms) : 1 # post-synaptic inhibitory conductance\n",
        "'''\n",
        "EG       = NeuronGroup( N_e , model=neuron_eqs_e,\n",
        "                            threshold='v>v_thr_e', reset='v=v_reset_e', refractory='refrac_e',method='euler',name='EG')\n",
        "IG       = NeuronGroup( N_i , model=neuron_eqs_i,\n",
        "                            threshold='v>v_thr_i', reset='v=v_reset_i', refractory='refrac_i',method='euler',name='IG')\n",
        "#EG.v=E_l_e - 40*mV\n",
        "\n",
        "EG.v=E_l_e    #20\n",
        "IG.v=E_l_i    #20\n",
        "\n",
        "###synapses\n",
        "#-----------------------------------------------------------------------------\n",
        "# Apre and Apost - presynaptic and postsynaptic traces, lr - learning rate\n",
        "#stdp='''w : 1\n",
        "#    lr_pree : 1 (shared)\n",
        "#    lr_postt : 1 (shared)\n",
        "#   dApre/dt = -Apre / taupre : 1 (event-driven)\n",
        " #   dApost/dt = -Apost / taupost : 1 (event-driven)'''\n",
        "#stdp_pre='''g_e += w\n",
        " #   Apre += dApre\n",
        " #   w = clip(w + lr_pree*Apost, 0, gmax)'''\n",
        "#stdp_post='''Apost += dApost\n",
        "#    w = clip(w + lr_postt*Apre, 0, gmax)'''\n",
        "\n",
        "#-----------------------------------------------------------------------------\n",
        "tc_pre_ee = 20*ms\n",
        "tc_post_1_ee = 20*ms\n",
        "tc_post_2_ee = 40*ms\n",
        "nu_ee_pre =  0.0001      # learning rate\n",
        "nu_ee_post = 0.01       # learning rate\n",
        "wmax_ee = 100.0\n",
        "\n",
        "\n",
        "eqs_stdp_ee = '''\n",
        "                w:1\n",
        "                post2before                            : 1\n",
        "                dpre/dt   =   -pre/(tc_pre_ee)         : 1 (event-driven)\n",
        "                dpost1/dt  = -post1/(tc_post_1_ee)     : 1 (event-driven)\n",
        "                dpost2/dt  = -post2/(tc_post_2_ee)     : 1 (event-driven)\n",
        "            '''\n",
        "eqs_stdp_pre_ee = 'g_e_post += w; pre = 1.; w = clip(w + nu_ee_pre * post1, 0, wmax_ee)'\n",
        "eqs_stdp_post_ee = 'post2before = post2; w = clip(w + nu_ee_post * pre * post2before, 0, wmax_ee); post1 = 1.; post2 = 1.'\n",
        "\n",
        "\n",
        "#create input synapse\n",
        "PG_syn= Synapses(SGG, EG, eqs_stdp_ee, on_pre=eqs_stdp_pre_ee, on_post=eqs_stdp_post_ee, method='euler', name='PG_syn')\n",
        "PG_syn.connect()\n",
        "\n",
        "#PG_syn.w = 'rand()*0.3' # random weights initialisation\n",
        "#np.save('/content/drive/My Drive/SNN-MNIST/initialization/PG_syn_w0.npy',np.array(PG_syn.w))\n",
        "PG_syn.w=np.load('/content/drive/My Drive/SNN-MNIST/initialization/PG_syn_w0.npy')+0.2\n",
        "#PG_syn.w=[15.1,15.3,15.5]\n",
        "#PG_syn.w=[0.1,0.2,0.3]\n",
        "\n",
        "#PG_syn.lr_pree =  0.0001  # learning rate\n",
        "#PG_syn.lr_postt = 0.01    #learning rate\n",
        "\n",
        "#PG_syn.delay='rand()*10*ms'\n",
        "#np.save('/content/drive/My Drive/SNN-MNIST/initialization/PG_syn_delay.npy',np.array(PG_syn.delay))\n",
        "PG_syn.delay=np.load('/content/drive/My Drive/SNN-MNIST/initialization/PG_syn_delay.npy')*second\n",
        "#PG_syn.delay=[2,4,6]*ms\n",
        "print(\"weight\",PG_syn.w[0:10])\n",
        "print(\"delay\", PG_syn.delay[0:10])\n",
        "\n",
        "#create recurrent connection\n",
        "EI_syn= Synapses(EG, IG, 'w : 1', on_pre='g_e_post += w', name='EI_syn')\n",
        "EI_syn.connect(j='i')\n",
        "EI_syn.w = 10.4   #8\n",
        "#create lateral inhibition\n",
        "IE_syn= Synapses(IG, EG, 'w : 1', on_pre='g_i_post += w', name='IE_syn')\n",
        "IE_syn.connect('i!=j')\n",
        "IE_syn.w = 15 #0.5"
      ],
      "metadata": {
        "colab": {
          "base_uri": "https://localhost:8080/"
        },
        "id": "iiw3SyhIGMnv",
        "outputId": "54fe39d2-8294-4d24-b0c0-bc1c4f666543"
      },
      "execution_count": 5,
      "outputs": [
        {
          "output_type": "stream",
          "name": "stdout",
          "text": [
            "weight [0.46456468 0.43735379 0.46726514 0.43858942 0.48817874 0.47258068\n",
            " 0.28852087 0.23447625 0.21316829 0.41404267]\n",
            "delay [7.32476792 9.84627581 1.50877441 5.42850994 1.27290655 9.71710958\n",
            " 1.92970078 9.97429815 1.64700037 8.30503047] ms\n"
          ]
        }
      ]
    },
    {
      "cell_type": "code",
      "source": [
        "#monitor state variables\n",
        "exc_mon = SpikeMonitor(EG)\n",
        "inh_mon = SpikeMonitor(IG)\n",
        "E_stat=StateMonitor(EG,['v','g_e','g_i'],record=True)\n",
        "I_stat=StateMonitor(IG,['v','g_e'],record=True)\n",
        "#PE_stat= StateMonitor(PG_syn, ['w', 'Apre', 'Apost'], record=True)\n",
        "PE_stat= StateMonitor(PG_syn, ['w'], record=True)"
      ],
      "metadata": {
        "id": "EqoYI5g2IrVv"
      },
      "execution_count": 6,
      "outputs": []
    },
    {
      "cell_type": "code",
      "source": [
        "def addSegmentToPoissonSpikes(spikes_t,addSegment):\n",
        "    for index13 in np.arange(len(spikes_t)):\n",
        "        spikes_t[index13] += addSegment\n",
        "    return spikes_t  \n",
        "begin_time = datetime.datetime.now()\n",
        "print(\"Training is starting at  : \",begin_time)\n",
        "spikeCount=np.zeros([(epoch*numberImg)+1,N_e])\n",
        "oldspikeCount=np.zeros(N_e)\n",
        "duration=numberImg*(intervalImg*ms+segmentTime)\n",
        "iteration=0\n",
        "segment_offset=0*ms\n",
        "\n",
        "for ep in np.arange(epoch):\n",
        "    #print(\"epoch \"+str(ep)+\" is runing:\")\n",
        "    #print(\"segment_offset\",segment_offset)\n",
        "    for idx in np.arange(numberImg):\n",
        "        \n",
        "        SGG.active=False\n",
        "        run(intervalImg*ms)\n",
        "        oldspikeCount=exc_mon.count[:]\n",
        "        #print(\"spike count after interval time\", oldspikeCount)\n",
        "        \n",
        "        SGG.active=True\n",
        "        segment_offset=segment_offset+intervalImg*ms\n",
        "        #print(\"segment_offset \",segment_offset)\n",
        "        spikes_t=addSegmentToPoissonSpikes(dict_poissonSpikeInput[idx]*ms,segment_offset)\n",
        "        #print(\"spikes_t_after \"+str(stimulusIdx),spikes_t)\n",
        "               \n",
        "        SGG.set_spikes(np.zeros(len(dict_poissonSpikeInput[idx])),spikes_t)\n",
        "        #print(\"SGG._spike_time\",SGG._spike_time)\n",
        "        #print(SGG.get_states)\n",
        "        run(segmentTime)\n",
        "        spikeCount[iteration,:]=exc_mon.count[:]-oldspikeCount\n",
        "        \n",
        "        #print(\"spikeCount[\"+str(iteration)+\"]\\n\",spikeCount[iteration,:])\n",
        "        oldspikeCount=exc_mon.count[:]\n",
        "         \n",
        "        segment_offset=segment_offset+segmentTime\n",
        "        #np.save(current_dir +'\\\\result\\\\weight\\\\w_e_t'+str(iteration),np.array(out_exc_syn.w_e_t[:]))\n",
        "        #np.save(current_dir +'\\\\result\\\\weight\\\\w_i_t'+str(iteration),np.array(out_inh_syn.w_i_t[:]))\n",
        "        \n",
        "        iteration+=1\n",
        "    \n",
        "        \n",
        "             \n",
        "        \n",
        "end_time=datetime.datetime.now()\n",
        "print(\"Training finished at \",end_time - begin_time)        "
      ],
      "metadata": {
        "colab": {
          "base_uri": "https://localhost:8080/"
        },
        "id": "X7fepVaaH98g",
        "outputId": "e2cdaea7-60a1-4fc7-eb2c-386156dc405d"
      },
      "execution_count": 7,
      "outputs": [
        {
          "output_type": "stream",
          "name": "stdout",
          "text": [
            "Training is starting at  :  2023-01-14 19:10:12.144777\n",
            "Training finished at  0:06:09.404956\n"
          ]
        }
      ]
    },
    {
      "cell_type": "code",
      "source": [
        "numSp,maxSpInput,sameMaxSpInput,idxMaxSpInput,zeroNumSp,numIdentical=spikeTrain.spCountNeuronPerInput(segmentTime,intervalImg,exc_mon,numberImg,epoch,numberclass)\n",
        "print(zeroNumSp)\n",
        "print(numIdentical)\n",
        "print(sameMaxSpInput)"
      ],
      "metadata": {
        "colab": {
          "base_uri": "https://localhost:8080/"
        },
        "id": "l3Y2T5qZJFLO",
        "outputId": "7812fa58-639e-499a-a563-04218e33b942"
      },
      "execution_count": 8,
      "outputs": [
        {
          "output_type": "stream",
          "name": "stderr",
          "text": [
            "WARNING    /content/drive/My Drive/SNN-MNIST/spikeTrain.py:55: VisibleDeprecationWarning: Creating an ndarray from ragged nested sequences (which is a list-or-tuple of lists-or-tuples-or ndarrays with different lengths or shapes) is deprecated. If you meant to do this, you must specify 'dtype=object' when creating the ndarray.\n",
            "  ti_sptrains_np=np.array(list(ti_sptrains.items()))\n",
            " [py.warnings]\n",
            "WARNING:py.warnings:/content/drive/My Drive/SNN-MNIST/spikeTrain.py:55: VisibleDeprecationWarning: Creating an ndarray from ragged nested sequences (which is a list-or-tuple of lists-or-tuples-or ndarrays with different lengths or shapes) is deprecated. If you meant to do this, you must specify 'dtype=object' when creating the ndarray.\n",
            "  ti_sptrains_np=np.array(list(ti_sptrains.items()))\n",
            "\n"
          ]
        },
        {
          "output_type": "stream",
          "name": "stdout",
          "text": [
            "0\n",
            "0\n",
            "[[1. 1. 1. 1. 1. 1. 1. 1. 1. 1. 1. 1. 1. 1. 1. 1. 1. 1. 1. 1. 1. 1. 1. 1.\n",
            "  1. 1. 1. 1. 1. 1. 1. 1. 1. 1. 1. 1. 1. 1. 1. 1. 1. 1. 1. 1. 1. 1. 1. 1.\n",
            "  1. 1. 1. 1. 1. 1. 1. 1. 1. 1. 1. 1. 1. 1. 1. 1. 1. 1. 1. 1. 1. 1. 1. 1.\n",
            "  1. 1. 1. 1. 1. 1. 1. 1. 1. 1. 1. 1. 1. 1. 1. 1. 1. 1. 1. 1. 1. 1. 1. 1.\n",
            "  1. 1. 1. 1.]]\n"
          ]
        }
      ]
    },
    {
      "cell_type": "code",
      "source": [
        "numberclass=N_e\n",
        "numberclass\n",
        "classlabel"
      ],
      "metadata": {
        "colab": {
          "base_uri": "https://localhost:8080/"
        },
        "id": "KAKgvG8dridd",
        "outputId": "0516672f-7067-4ee3-9450-ffe5e5695c23"
      },
      "execution_count": 9,
      "outputs": [
        {
          "output_type": "execute_result",
          "data": {
            "text/plain": [
              "[0, 1, 8]"
            ]
          },
          "metadata": {},
          "execution_count": 9
        }
      ]
    },
    {
      "cell_type": "code",
      "source": [
        "spikeTrain.get_IndexNeuronPerInput(TrainSetSh,TrainSetTargetSh,idxMaxSpInput,epoch,classlabel)"
      ],
      "metadata": {
        "colab": {
          "base_uri": "https://localhost:8080/"
        },
        "id": "IF7-vKNnQa_T",
        "outputId": "b6904fed-3e3d-4b23-fdce-ba0bc4d92308"
      },
      "execution_count": 10,
      "outputs": [
        {
          "output_type": "execute_result",
          "data": {
            "text/plain": [
              "{0: array([27]), 1: array([27]), 8: array([27])}"
            ]
          },
          "metadata": {},
          "execution_count": 10
        }
      ]
    },
    {
      "cell_type": "code",
      "source": [
        "PG_syn.w "
      ],
      "metadata": {
        "colab": {
          "base_uri": "https://localhost:8080/"
        },
        "id": "wM-lusY1ESMo",
        "outputId": "9b79e161-786f-4fa1-8d1f-79208600126a"
      },
      "execution_count": 11,
      "outputs": [
        {
          "output_type": "execute_result",
          "data": {
            "text/plain": [
              "<PG_syn.w: array([ 0.46456468,  0.43735379,  0.487198  ,  0.43858942,  0.826267  ,\n",
              "        0.47258068,  0.28852087,  0.23447625,  0.21316829,  0.41404267,\n",
              "        0.49566276,  0.35213209,  0.42529134,  0.2899603 ,  0.21778673,\n",
              "        0.36047627,  0.42706079,  0.27008316,  0.21736291,  0.36437504,\n",
              "        0.44749529,  0.30078717,  0.55961204,  0.49429909,  0.39069229,\n",
              "        0.21044306,  0.23622243, 28.09302999,  0.43607604,  0.391657  ,\n",
              "        0.46025627,  0.28718779,  0.27874136,  0.2765694 ,  0.38844138,\n",
              "        0.38867861,  0.30629033,  0.42471913,  0.27194996,  0.30399825,\n",
              "        0.2310139 ,  0.44043057,  0.29529805,  0.35752981,  0.46978492,\n",
              "        0.31869822,  0.30388019,  0.4668893 ,  0.29227687,  0.4812798 ,\n",
              "        0.40309801,  0.4330345 ,  0.21022313,  0.32369697,  0.35459762,\n",
              "        0.45298327,  0.43034263,  0.23628003,  0.27861281,  0.32587303,\n",
              "        0.39857351,  0.26133141,  0.28609073,  0.21826684,  0.48184768,\n",
              "        0.47510187,  0.28083325,  0.32080595,  0.45680954,  0.36086576,\n",
              "        0.20543848,  0.29017759,  0.26645462,  0.47367793,  0.47506897,\n",
              "        0.47583548,  0.25513479,  0.32900744,  0.30914823,  0.40105623,\n",
              "        0.23881264,  0.33211401,  0.41834688,  0.30858079,  0.26667596,\n",
              "        0.46994267,  0.33557515,  0.36648724,  0.34837267,  0.33420811,\n",
              "        0.29614845,  0.20096766,  0.43880482,  0.24656453,  0.40697881,\n",
              "        0.2866046 ,  0.28475909,  0.48108796,  0.30756159,  0.33763577])>"
            ]
          },
          "metadata": {},
          "execution_count": 11
        }
      ]
    },
    {
      "cell_type": "code",
      "source": [
        "print(inh_mon.count)\n",
        "print(exc_mon.count)\n"
      ],
      "metadata": {
        "colab": {
          "base_uri": "https://localhost:8080/"
        },
        "id": "R5zIxRYFn3P-",
        "outputId": "f5b8b976-c2f1-4fe7-9700-231d23d575a5"
      },
      "execution_count": 12,
      "outputs": [
        {
          "output_type": "stream",
          "name": "stdout",
          "text": [
            "<spikemonitor_1.count: array([   0,    0,    1,    0,   26,    0,    0,    0,    0,    0,    0,\n",
            "          0,    0,    0,    0,    0,    0,    0,    0,    0,    0,    0,\n",
            "          5,    0,    0,    0,    0, 4123,    0,    0,    0,    0,    0,\n",
            "          0,    0,    0,    0,    0,    0,    0,    0,    0,    0,    0,\n",
            "          0,    0,    0,    0,    0,    0,    0,    0,    0,    0,    0,\n",
            "          0,    0,    0,    0,    0,    0,    0,    0,    0,    0,    0,\n",
            "          0,    0,    0,    0,    0,    0,    0,    0,    0,    0,    0,\n",
            "          0,    0,    0,    0,    0,    0,    0,    0,    0,    0,    0,\n",
            "          0,    0,    0,    0,    0,    0,    0,    0,    0,    0,    0,\n",
            "          0], dtype=int32)>\n",
            "<spikemonitor.count: array([   0,    0,    1,    0,   26,    0,    0,    0,    0,    0,    0,\n",
            "          0,    0,    0,    0,    0,    0,    0,    0,    0,    0,    0,\n",
            "          5,    0,    0,    0,    0, 4123,    0,    0,    0,    0,    0,\n",
            "          0,    0,    0,    0,    0,    0,    0,    0,    0,    0,    0,\n",
            "          0,    0,    0,    0,    0,    0,    0,    0,    0,    0,    0,\n",
            "          0,    0,    0,    0,    0,    0,    0,    0,    0,    0,    0,\n",
            "          0,    0,    0,    0,    0,    0,    0,    0,    0,    0,    0,\n",
            "          0,    0,    0,    0,    0,    0,    0,    0,    0,    0,    0,\n",
            "          0,    0,    0,    0,    0,    0,    0,    0,    0,    0,    0,\n",
            "          0], dtype=int32)>\n"
          ]
        }
      ]
    },
    {
      "cell_type": "code",
      "source": [
        "figure(figsize=(12,8))\n",
        "subplot(411)\n",
        "plot(PG_syn.w / gmax, '.k')\n",
        "ylabel('Weight / gmax')\n",
        "xlabel('Synapse index')\n",
        "subplot(412)\n",
        "hist(PG_syn.w / gmax, 20)\n",
        "xlabel('Weight / gmax')\n",
        "subplot(413)\n",
        "plot(PE_stat.t/second, PE_stat.w.T/gmax)\n",
        "xlabel('Time (s)')\n",
        "ylabel('Weight / gmax')\n",
        "subplot(414)\n",
        "mpl.rcParams.update(mpl.rcParamsDefault)\n",
        "#plt.subplot(311)\n",
        "for ii in np.arange(len(dict_poissonSpikeInput)-2900):\n",
        "    plt.scatter( dict_poissonSpikeInput[ii],ii*np.ones(len(dict_poissonSpikeInput[ii])),s=3,c='#1f77b4')\n",
        "    # Set axes limit\n",
        "    plt.xlim(0, 500)\n",
        "    plt.ylim(0,100)\n",
        "    plt.xlabel(\"Time(ms)\")\n",
        "    plt.ylabel(\"Image number\")\n",
        "    plt.title(\"The first 100 poisson spike trains\")\n",
        "\n",
        "plt.show()\n",
        "tight_layout()\n",
        "show()"
      ],
      "metadata": {
        "colab": {
          "base_uri": "https://localhost:8080/",
          "height": 514
        },
        "id": "W2NQmapND147",
        "outputId": "bc657da7-a214-45d7-dc2e-a2a36b087982"
      },
      "execution_count": 13,
      "outputs": [
        {
          "output_type": "display_data",
          "data": {
            "text/plain": [
              "<Figure size 864x576 with 4 Axes>"
            ],
            "image/png": "[encoded data removed]"
          },
          "metadata": {
            "needs_background": "light"
          }
        },
        {
          "output_type": "display_data",
          "data": {
            "text/plain": [
              "<Figure size 640x480 with 0 Axes>"
            ]
          },
          "metadata": {}
        }
      ]
    }
  ],
  "metadata": {
    "colab": {
      "provenance": []
    },
    "kernelspec": {
      "display_name": "Python 3",
      "name": "python3"
    },
    "language_info": {
      "name": "python"
    }
  },
  "nbformat": 4,
  "nbformat_minor": 0
}